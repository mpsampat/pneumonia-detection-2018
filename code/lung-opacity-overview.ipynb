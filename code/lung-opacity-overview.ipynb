{
 "cells": [
  {
   "cell_type": "markdown",
   "metadata": {
    "_uuid": "0cbce5cc636ba65b81d858c596e39aa532728780"
   },
   "source": [
    "# Overview\n",
    "The notebook aims to get a better feeling for the data and more importantly the distributions of values. We take the labels and combine them with the detailed class info and try and determine what the biggest challenges of the prediction might be. "
   ]
  },
  {
   "cell_type": "code",
   "execution_count": 1,
   "metadata": {
    "_uuid": "ae448b0ed29194053d40ebd29b2fa03982468552"
   },
   "outputs": [],
   "source": [
    "%matplotlib inline\n",
    "import matplotlib.pyplot as plt\n",
    "import numpy as np\n",
    "import pydicom\n",
    "import pandas as pd\n",
    "from glob import glob\n",
    "import os\n",
    "from matplotlib.patches import Rectangle\n",
    "det_class_path = '../input/stage_1_detailed_class_info.csv'\n",
    "bbox_path = '../input/stage_1_train_labels.csv'\n",
    "dicom_dir = '../input/stage_1_train_images/'"
   ]
  },
  {
   "cell_type": "markdown",
   "metadata": {
    "_uuid": "f4ff05105153200d3dc3f382b5a24b6e6dd80291"
   },
   "source": [
    "# Detailed Class Info\n",
    "Here we show the image-level labels for the scans. The most interesting group here is the `No Lung Opacity / Not Normal` since they are cases that look like opacity but are not. So the first step might be to divide the test images into clear groups and then only perform the bounding box prediction on the suspicious images."
   ]
  },
  {
   "cell_type": "code",
   "execution_count": 2,
   "metadata": {
    "_uuid": "a0a43187041d2773c035b62f68a9687811f9fcc2"
   },
   "outputs": [
    {
     "name": "stdout",
     "output_type": "stream",
     "text": [
      "28989 class infos loaded\n",
      "25684 patient cases\n"
     ]
    },
    {
     "data": {
      "text/html": [
       "<div>\n",
       "<style scoped>\n",
       "    .dataframe tbody tr th:only-of-type {\n",
       "        vertical-align: middle;\n",
       "    }\n",
       "\n",
       "    .dataframe tbody tr th {\n",
       "        vertical-align: top;\n",
       "    }\n",
       "\n",
       "    .dataframe thead th {\n",
       "        text-align: right;\n",
       "    }\n",
       "</style>\n",
       "<table border=\"1\" class=\"dataframe\">\n",
       "  <thead>\n",
       "    <tr style=\"text-align: right;\">\n",
       "      <th></th>\n",
       "      <th>patientId</th>\n",
       "      <th>class</th>\n",
       "    </tr>\n",
       "  </thead>\n",
       "  <tbody>\n",
       "    <tr>\n",
       "      <th>6563</th>\n",
       "      <td>4fd82276-a900-49e3-8282-ffda6edd6068</td>\n",
       "      <td>Lung Opacity</td>\n",
       "    </tr>\n",
       "    <tr>\n",
       "      <th>22025</th>\n",
       "      <td>c78daf52-c33b-4367-a28f-5bc60a92e7d9</td>\n",
       "      <td>Lung Opacity</td>\n",
       "    </tr>\n",
       "    <tr>\n",
       "      <th>16237</th>\n",
       "      <td>9d7122f2-9b37-41cb-92f5-b4954ba23b6c</td>\n",
       "      <td>No Lung Opacity / Not Normal</td>\n",
       "    </tr>\n",
       "  </tbody>\n",
       "</table>\n",
       "</div>"
      ],
      "text/plain": [
       "                                  patientId                         class\n",
       "6563   4fd82276-a900-49e3-8282-ffda6edd6068                  Lung Opacity\n",
       "22025  c78daf52-c33b-4367-a28f-5bc60a92e7d9                  Lung Opacity\n",
       "16237  9d7122f2-9b37-41cb-92f5-b4954ba23b6c  No Lung Opacity / Not Normal"
      ]
     },
     "execution_count": 2,
     "metadata": {},
     "output_type": "execute_result"
    },
    {
     "data": {
      "image/png": "[encoded data removed]",
      "text/plain": [
       "<Figure size 432x288 with 1 Axes>"
      ]
     },
     "metadata": {
      "needs_background": "light"
     },
     "output_type": "display_data"
    }
   ],
   "source": [
    "det_class_df = pd.read_csv(det_class_path)\n",
    "print(det_class_df.shape[0], 'class infos loaded')\n",
    "print(det_class_df['patientId'].value_counts().shape[0], 'patient cases')\n",
    "det_class_df.groupby('class').size().plot.bar()\n",
    "det_class_df.sample(3)"
   ]
  },
  {
   "cell_type": "markdown",
   "metadata": {
    "_uuid": "4ca820c61b58fe03a613bce38c47786b8a8ef399"
   },
   "source": [
    "# Load the Bounding Box Data\n",
    "Here we show the bounding boxes"
   ]
  },
  {
   "cell_type": "code",
   "execution_count": 3,
   "metadata": {
    "_uuid": "cc03f5c79bee9f015c12dc8181f7997df584fbb8"
   },
   "outputs": [
    {
     "name": "stdout",
     "output_type": "stream",
     "text": [
      "28989 boxes loaded\n",
      "25684 patient cases\n"
     ]
    },
    {
     "data": {
      "text/html": [
       "<div>\n",
       "<style scoped>\n",
       "    .dataframe tbody tr th:only-of-type {\n",
       "        vertical-align: middle;\n",
       "    }\n",
       "\n",
       "    .dataframe tbody tr th {\n",
       "        vertical-align: top;\n",
       "    }\n",
       "\n",
       "    .dataframe thead th {\n",
       "        text-align: right;\n",
       "    }\n",
       "</style>\n",
       "<table border=\"1\" class=\"dataframe\">\n",
       "  <thead>\n",
       "    <tr style=\"text-align: right;\">\n",
       "      <th></th>\n",
       "      <th>patientId</th>\n",
       "      <th>x</th>\n",
       "      <th>y</th>\n",
       "      <th>width</th>\n",
       "      <th>height</th>\n",
       "      <th>Target</th>\n",
       "    </tr>\n",
       "  </thead>\n",
       "  <tbody>\n",
       "    <tr>\n",
       "      <th>14862</th>\n",
       "      <td>9213259c-2814-4cbb-98a8-b4a21bfdf6ae</td>\n",
       "      <td>NaN</td>\n",
       "      <td>NaN</td>\n",
       "      <td>NaN</td>\n",
       "      <td>NaN</td>\n",
       "      <td>0</td>\n",
       "    </tr>\n",
       "    <tr>\n",
       "      <th>24109</th>\n",
       "      <td>d8cd7100-a106-41c7-9aa2-d1b88b789bba</td>\n",
       "      <td>NaN</td>\n",
       "      <td>NaN</td>\n",
       "      <td>NaN</td>\n",
       "      <td>NaN</td>\n",
       "      <td>0</td>\n",
       "    </tr>\n",
       "    <tr>\n",
       "      <th>20672</th>\n",
       "      <td>bca2c151-2431-4595-80c7-75480a196c6e</td>\n",
       "      <td>328.0</td>\n",
       "      <td>415.0</td>\n",
       "      <td>129.0</td>\n",
       "      <td>226.0</td>\n",
       "      <td>1</td>\n",
       "    </tr>\n",
       "  </tbody>\n",
       "</table>\n",
       "</div>"
      ],
      "text/plain": [
       "                                  patientId      x      y  width  height  \\\n",
       "14862  9213259c-2814-4cbb-98a8-b4a21bfdf6ae    NaN    NaN    NaN     NaN   \n",
       "24109  d8cd7100-a106-41c7-9aa2-d1b88b789bba    NaN    NaN    NaN     NaN   \n",
       "20672  bca2c151-2431-4595-80c7-75480a196c6e  328.0  415.0  129.0   226.0   \n",
       "\n",
       "       Target  \n",
       "14862       0  \n",
       "24109       0  \n",
       "20672       1  "
      ]
     },
     "execution_count": 3,
     "metadata": {},
     "output_type": "execute_result"
    }
   ],
   "source": [
    "bbox_df = pd.read_csv(bbox_path)\n",
    "print(bbox_df.shape[0], 'boxes loaded')\n",
    "print(bbox_df['patientId'].value_counts().shape[0], 'patient cases')\n",
    "bbox_df.sample(3)"
   ]
  },
  {
   "cell_type": "markdown",
   "metadata": {
    "_uuid": "c5cc20e2eb8e9cbecf4494fe5264397438fb73a1"
   },
   "source": [
    "# Combine Boxes and Labels\n",
    "Here we bring the labels and the boxes together and now we can focus on how the boxes look on the images"
   ]
  },
  {
   "cell_type": "code",
   "execution_count": 4,
   "metadata": {
    "_uuid": "ca18783acf240faea13a23fd06fba7b41f9ea71d"
   },
   "outputs": [
    {
     "name": "stdout",
     "output_type": "stream",
     "text": [
      "35875 combined cases\n"
     ]
    }
   ],
   "source": [
    "# we first try a join and see that it doesn't work (we end up with too many boxes)\n",
    "comb_bbox_df = pd.merge(bbox_df, det_class_df, how='inner', on='patientId')\n",
    "print(comb_bbox_df.shape[0], 'combined cases')"
   ]
  },
  {
   "cell_type": "markdown",
   "metadata": {
    "_uuid": "15ab554a46421da28b29d7932dcad07b5146203f"
   },
   "source": [
    "## Concatenate\n",
    "We have to concatenate the two datasets and then we get class and target information on each region"
   ]
  },
  {
   "cell_type": "code",
   "execution_count": 5,
   "metadata": {
    "_uuid": "91447e135cd4525c0869692ab6a6269e5bc9f30f"
   },
   "outputs": [
    {
     "name": "stdout",
     "output_type": "stream",
     "text": [
      "28989 combined cases\n"
     ]
    },
    {
     "data": {
      "text/html": [
       "<div>\n",
       "<style scoped>\n",
       "    .dataframe tbody tr th:only-of-type {\n",
       "        vertical-align: middle;\n",
       "    }\n",
       "\n",
       "    .dataframe tbody tr th {\n",
       "        vertical-align: top;\n",
       "    }\n",
       "\n",
       "    .dataframe thead th {\n",
       "        text-align: right;\n",
       "    }\n",
       "</style>\n",
       "<table border=\"1\" class=\"dataframe\">\n",
       "  <thead>\n",
       "    <tr style=\"text-align: right;\">\n",
       "      <th></th>\n",
       "      <th>patientId</th>\n",
       "      <th>x</th>\n",
       "      <th>y</th>\n",
       "      <th>width</th>\n",
       "      <th>height</th>\n",
       "      <th>Target</th>\n",
       "      <th>class</th>\n",
       "    </tr>\n",
       "  </thead>\n",
       "  <tbody>\n",
       "    <tr>\n",
       "      <th>10764</th>\n",
       "      <td>719dd825-dd41-46f9-a59c-7385d4576196</td>\n",
       "      <td>NaN</td>\n",
       "      <td>NaN</td>\n",
       "      <td>NaN</td>\n",
       "      <td>NaN</td>\n",
       "      <td>0</td>\n",
       "      <td>No Lung Opacity / Not Normal</td>\n",
       "    </tr>\n",
       "    <tr>\n",
       "      <th>17858</th>\n",
       "      <td>a9dbe0c0-3f75-4917-b44a-928692f5add0</td>\n",
       "      <td>NaN</td>\n",
       "      <td>NaN</td>\n",
       "      <td>NaN</td>\n",
       "      <td>NaN</td>\n",
       "      <td>0</td>\n",
       "      <td>No Lung Opacity / Not Normal</td>\n",
       "    </tr>\n",
       "    <tr>\n",
       "      <th>7020</th>\n",
       "      <td>5399e1e3-a2a1-48c3-80ab-29b18ecb98f4</td>\n",
       "      <td>NaN</td>\n",
       "      <td>NaN</td>\n",
       "      <td>NaN</td>\n",
       "      <td>NaN</td>\n",
       "      <td>0</td>\n",
       "      <td>Normal</td>\n",
       "    </tr>\n",
       "  </tbody>\n",
       "</table>\n",
       "</div>"
      ],
      "text/plain": [
       "                                  patientId   x   y  width  height  Target  \\\n",
       "10764  719dd825-dd41-46f9-a59c-7385d4576196 NaN NaN    NaN     NaN       0   \n",
       "17858  a9dbe0c0-3f75-4917-b44a-928692f5add0 NaN NaN    NaN     NaN       0   \n",
       "7020   5399e1e3-a2a1-48c3-80ab-29b18ecb98f4 NaN NaN    NaN     NaN       0   \n",
       "\n",
       "                              class  \n",
       "10764  No Lung Opacity / Not Normal  \n",
       "17858  No Lung Opacity / Not Normal  \n",
       "7020                         Normal  "
      ]
     },
     "execution_count": 5,
     "metadata": {},
     "output_type": "execute_result"
    }
   ],
   "source": [
    "comb_bbox_df = pd.concat([bbox_df, \n",
    "                        det_class_df.drop('patientId',1)], 1)\n",
    "print(comb_bbox_df.shape[0], 'combined cases')\n",
    "comb_bbox_df.sample(3)"
   ]
  },
  {
   "cell_type": "markdown",
   "metadata": {
    "_uuid": "6f29b7e35b8f879687bcfeadf8a93c708c94d9a7"
   },
   "source": [
    "# Distribution of Boxes and Labels\n",
    "The values below show the number of boxes and the patients that have that number. "
   ]
  },
  {
   "cell_type": "code",
   "execution_count": 6,
   "metadata": {
    "_uuid": "569f38045b0359ae0635bca97dbbe600785ff565"
   },
   "outputs": [
    {
     "data": {
      "text/html": [
       "<div>\n",
       "<style scoped>\n",
       "    .dataframe tbody tr th:only-of-type {\n",
       "        vertical-align: middle;\n",
       "    }\n",
       "\n",
       "    .dataframe tbody tr th {\n",
       "        vertical-align: top;\n",
       "    }\n",
       "\n",
       "    .dataframe thead th {\n",
       "        text-align: right;\n",
       "    }\n",
       "</style>\n",
       "<table border=\"1\" class=\"dataframe\">\n",
       "  <thead>\n",
       "    <tr style=\"text-align: right;\">\n",
       "      <th></th>\n",
       "      <th>boxes</th>\n",
       "      <th>patients</th>\n",
       "    </tr>\n",
       "  </thead>\n",
       "  <tbody>\n",
       "    <tr>\n",
       "      <th>0</th>\n",
       "      <td>1</td>\n",
       "      <td>22506</td>\n",
       "    </tr>\n",
       "    <tr>\n",
       "      <th>1</th>\n",
       "      <td>2</td>\n",
       "      <td>3062</td>\n",
       "    </tr>\n",
       "    <tr>\n",
       "      <th>2</th>\n",
       "      <td>3</td>\n",
       "      <td>105</td>\n",
       "    </tr>\n",
       "    <tr>\n",
       "      <th>3</th>\n",
       "      <td>4</td>\n",
       "      <td>11</td>\n",
       "    </tr>\n",
       "  </tbody>\n",
       "</table>\n",
       "</div>"
      ],
      "text/plain": [
       "   boxes  patients\n",
       "0      1     22506\n",
       "1      2      3062\n",
       "2      3       105\n",
       "3      4        11"
      ]
     },
     "execution_count": 6,
     "metadata": {},
     "output_type": "execute_result"
    }
   ],
   "source": [
    "box_df = comb_bbox_df.groupby('patientId').\\\n",
    "    size().\\\n",
    "    reset_index(name='boxes')\n",
    "comb_box_df = pd.merge(comb_bbox_df, box_df, on='patientId')\n",
    "box_df.\\\n",
    "    groupby('boxes').\\\n",
    "    size().\\\n",
    "    reset_index(name='patients')"
   ]
  },
  {
   "cell_type": "markdown",
   "metadata": {
    "_uuid": "277b277b5c63562afa5a66c0714a94bb139979ec"
   },
   "source": [
    "# How are class and target related?\n",
    "I assume that all the `Target=1` values fall in the `Lung Opacity` class, but it doesn't hurt to check."
   ]
  },
  {
   "cell_type": "code",
   "execution_count": 7,
   "metadata": {
    "_uuid": "2386013f7461e1407f1e782865228d146264bff0"
   },
   "outputs": [
    {
     "data": {
      "text/html": [
       "<div>\n",
       "<style scoped>\n",
       "    .dataframe tbody tr th:only-of-type {\n",
       "        vertical-align: middle;\n",
       "    }\n",
       "\n",
       "    .dataframe tbody tr th {\n",
       "        vertical-align: top;\n",
       "    }\n",
       "\n",
       "    .dataframe thead th {\n",
       "        text-align: right;\n",
       "    }\n",
       "</style>\n",
       "<table border=\"1\" class=\"dataframe\">\n",
       "  <thead>\n",
       "    <tr style=\"text-align: right;\">\n",
       "      <th></th>\n",
       "      <th>class</th>\n",
       "      <th>Target</th>\n",
       "      <th>Patient Count</th>\n",
       "    </tr>\n",
       "  </thead>\n",
       "  <tbody>\n",
       "    <tr>\n",
       "      <th>0</th>\n",
       "      <td>Lung Opacity</td>\n",
       "      <td>1</td>\n",
       "      <td>8964</td>\n",
       "    </tr>\n",
       "    <tr>\n",
       "      <th>1</th>\n",
       "      <td>No Lung Opacity / Not Normal</td>\n",
       "      <td>0</td>\n",
       "      <td>11500</td>\n",
       "    </tr>\n",
       "    <tr>\n",
       "      <th>2</th>\n",
       "      <td>Normal</td>\n",
       "      <td>0</td>\n",
       "      <td>8525</td>\n",
       "    </tr>\n",
       "  </tbody>\n",
       "</table>\n",
       "</div>"
      ],
      "text/plain": [
       "                          class  Target  Patient Count\n",
       "0                  Lung Opacity       1           8964\n",
       "1  No Lung Opacity / Not Normal       0          11500\n",
       "2                        Normal       0           8525"
      ]
     },
     "execution_count": 7,
     "metadata": {},
     "output_type": "execute_result"
    }
   ],
   "source": [
    "comb_bbox_df.groupby(['class', 'Target']).size().reset_index(name='Patient Count')"
   ]
  },
  {
   "cell_type": "markdown",
   "metadata": {
    "_uuid": "c5c58ddf2a9a7350650586865166ae0d5ed9a0cf"
   },
   "source": [
    "# Images\n",
    "Now that we have the boxes and labels loaded we can examine a few images."
   ]
  },
  {
   "cell_type": "code",
   "execution_count": 8,
   "metadata": {
    "_uuid": "46fe765772e24397a94295a70dbde46254c4cc8b"
   },
   "outputs": [
    {
     "name": "stdout",
     "output_type": "stream",
     "text": [
      "25684 images found\n"
     ]
    }
   ],
   "source": [
    "image_df = pd.DataFrame({'path': glob(os.path.join(dicom_dir, '*.dcm'))})\n",
    "image_df['patientId'] = image_df['path'].map(lambda x: os.path.splitext(os.path.basename(x))[0])\n",
    "print(image_df.shape[0], 'images found')\n",
    "img_pat_ids = set(image_df['patientId'].values.tolist())\n",
    "box_pat_ids = set(comb_box_df['patientId'].values.tolist())\n",
    "# check to make sure there is no funny business\n",
    "assert img_pat_ids.union(box_pat_ids)==img_pat_ids, \"Patient IDs should be the same\""
   ]
  },
  {
   "cell_type": "markdown",
   "metadata": {
    "_uuid": "c6299cf5b16c13e9eb07c69a84a934fec4cf8b6f"
   },
   "source": [
    "# Enrich the image fields\n",
    "We have quite a bit of additional data in the DICOM header we can easily extract to help learn more about the patient like their age, view position and gender which can make the model much more precise"
   ]
  },
  {
   "cell_type": "code",
   "execution_count": 9,
   "metadata": {
    "_uuid": "6fd8a408e2999759d3cc7500f7cb6d03d767103d"
   },
   "outputs": [
    {
     "ename": "KeyboardInterrupt",
     "evalue": "",
     "output_type": "error",
     "traceback": [
      "\u001b[0;31m---------------------------------------------------------------------------\u001b[0m",
      "\u001b[0;31mKeyboardInterrupt\u001b[0m                         Traceback (most recent call last)",
      "\u001b[0;32m<ipython-input-9-abe1c86d10e6>\u001b[0m in \u001b[0;36m<module>\u001b[0;34m\u001b[0m\n\u001b[1;32m      6\u001b[0m     \u001b[0mtag_dict\u001b[0m\u001b[0;34m[\u001b[0m\u001b[0;34m'path'\u001b[0m\u001b[0;34m]\u001b[0m \u001b[0;34m=\u001b[0m \u001b[0min_path\u001b[0m\u001b[0;34m\u001b[0m\u001b[0m\n\u001b[1;32m      7\u001b[0m     \u001b[0;32mreturn\u001b[0m \u001b[0mpd\u001b[0m\u001b[0;34m.\u001b[0m\u001b[0mSeries\u001b[0m\u001b[0;34m(\u001b[0m\u001b[0mtag_dict\u001b[0m\u001b[0;34m)\u001b[0m\u001b[0;34m\u001b[0m\u001b[0m\n\u001b[0;32m----> 8\u001b[0;31m \u001b[0mimage_meta_df\u001b[0m \u001b[0;34m=\u001b[0m \u001b[0mimage_df\u001b[0m\u001b[0;34m.\u001b[0m\u001b[0mapply\u001b[0m\u001b[0;34m(\u001b[0m\u001b[0;32mlambda\u001b[0m \u001b[0mx\u001b[0m\u001b[0;34m:\u001b[0m \u001b[0mget_tags\u001b[0m\u001b[0;34m(\u001b[0m\u001b[0mx\u001b[0m\u001b[0;34m[\u001b[0m\u001b[0;34m'path'\u001b[0m\u001b[0;34m]\u001b[0m\u001b[0;34m)\u001b[0m\u001b[0;34m,\u001b[0m \u001b[0;36m1\u001b[0m\u001b[0;34m)\u001b[0m\u001b[0;34m\u001b[0m\u001b[0m\n\u001b[0m\u001b[1;32m      9\u001b[0m \u001b[0;31m# show the summary\u001b[0m\u001b[0;34m\u001b[0m\u001b[0;34m\u001b[0m\u001b[0m\n\u001b[1;32m     10\u001b[0m \u001b[0mimage_meta_df\u001b[0m\u001b[0;34m[\u001b[0m\u001b[0;34m'PatientAge'\u001b[0m\u001b[0;34m]\u001b[0m \u001b[0;34m=\u001b[0m \u001b[0mimage_meta_df\u001b[0m\u001b[0;34m[\u001b[0m\u001b[0;34m'PatientAge'\u001b[0m\u001b[0;34m]\u001b[0m\u001b[0;34m.\u001b[0m\u001b[0mmap\u001b[0m\u001b[0;34m(\u001b[0m\u001b[0mint\u001b[0m\u001b[0;34m)\u001b[0m\u001b[0;34m\u001b[0m\u001b[0m\n",
      "\u001b[0;32m~/anaconda3/envs/tensorflow/lib/python3.6/site-packages/pandas/core/frame.py\u001b[0m in \u001b[0;36mapply\u001b[0;34m(self, func, axis, broadcast, raw, reduce, result_type, args, **kwds)\u001b[0m\n\u001b[1;32m   6002\u001b[0m                          \u001b[0margs\u001b[0m\u001b[0;34m=\u001b[0m\u001b[0margs\u001b[0m\u001b[0;34m,\u001b[0m\u001b[0;34m\u001b[0m\u001b[0m\n\u001b[1;32m   6003\u001b[0m                          kwds=kwds)\n\u001b[0;32m-> 6004\u001b[0;31m         \u001b[0;32mreturn\u001b[0m \u001b[0mop\u001b[0m\u001b[0;34m.\u001b[0m\u001b[0mget_result\u001b[0m\u001b[0;34m(\u001b[0m\u001b[0;34m)\u001b[0m\u001b[0;34m\u001b[0m\u001b[0m\n\u001b[0m\u001b[1;32m   6005\u001b[0m \u001b[0;34m\u001b[0m\u001b[0m\n\u001b[1;32m   6006\u001b[0m     \u001b[0;32mdef\u001b[0m \u001b[0mapplymap\u001b[0m\u001b[0;34m(\u001b[0m\u001b[0mself\u001b[0m\u001b[0;34m,\u001b[0m \u001b[0mfunc\u001b[0m\u001b[0;34m)\u001b[0m\u001b[0;34m:\u001b[0m\u001b[0;34m\u001b[0m\u001b[0m\n",
      "\u001b[0;32m~/anaconda3/envs/tensorflow/lib/python3.6/site-packages/pandas/core/apply.py\u001b[0m in \u001b[0;36mget_result\u001b[0;34m(self)\u001b[0m\n\u001b[1;32m    140\u001b[0m             \u001b[0;32mreturn\u001b[0m \u001b[0mself\u001b[0m\u001b[0;34m.\u001b[0m\u001b[0mapply_raw\u001b[0m\u001b[0;34m(\u001b[0m\u001b[0;34m)\u001b[0m\u001b[0;34m\u001b[0m\u001b[0m\n\u001b[1;32m    141\u001b[0m \u001b[0;34m\u001b[0m\u001b[0m\n\u001b[0;32m--> 142\u001b[0;31m         \u001b[0;32mreturn\u001b[0m \u001b[0mself\u001b[0m\u001b[0;34m.\u001b[0m\u001b[0mapply_standard\u001b[0m\u001b[0;34m(\u001b[0m\u001b[0;34m)\u001b[0m\u001b[0;34m\u001b[0m\u001b[0m\n\u001b[0m\u001b[1;32m    143\u001b[0m \u001b[0;34m\u001b[0m\u001b[0m\n\u001b[1;32m    144\u001b[0m     \u001b[0;32mdef\u001b[0m \u001b[0mapply_empty_result\u001b[0m\u001b[0;34m(\u001b[0m\u001b[0mself\u001b[0m\u001b[0;34m)\u001b[0m\u001b[0;34m:\u001b[0m\u001b[0;34m\u001b[0m\u001b[0m\n",
      "\u001b[0;32m~/anaconda3/envs/tensorflow/lib/python3.6/site-packages/pandas/core/apply.py\u001b[0m in \u001b[0;36mapply_standard\u001b[0;34m(self)\u001b[0m\n\u001b[1;32m    246\u001b[0m \u001b[0;34m\u001b[0m\u001b[0m\n\u001b[1;32m    247\u001b[0m         \u001b[0;31m# compute the result using the series generator\u001b[0m\u001b[0;34m\u001b[0m\u001b[0;34m\u001b[0m\u001b[0m\n\u001b[0;32m--> 248\u001b[0;31m         \u001b[0mself\u001b[0m\u001b[0;34m.\u001b[0m\u001b[0mapply_series_generator\u001b[0m\u001b[0;34m(\u001b[0m\u001b[0;34m)\u001b[0m\u001b[0;34m\u001b[0m\u001b[0m\n\u001b[0m\u001b[1;32m    249\u001b[0m \u001b[0;34m\u001b[0m\u001b[0m\n\u001b[1;32m    250\u001b[0m         \u001b[0;31m# wrap results\u001b[0m\u001b[0;34m\u001b[0m\u001b[0;34m\u001b[0m\u001b[0m\n",
      "\u001b[0;32m~/anaconda3/envs/tensorflow/lib/python3.6/site-packages/pandas/core/apply.py\u001b[0m in \u001b[0;36mapply_series_generator\u001b[0;34m(self)\u001b[0m\n\u001b[1;32m    275\u001b[0m             \u001b[0;32mtry\u001b[0m\u001b[0;34m:\u001b[0m\u001b[0;34m\u001b[0m\u001b[0m\n\u001b[1;32m    276\u001b[0m                 \u001b[0;32mfor\u001b[0m \u001b[0mi\u001b[0m\u001b[0;34m,\u001b[0m \u001b[0mv\u001b[0m \u001b[0;32min\u001b[0m \u001b[0menumerate\u001b[0m\u001b[0;34m(\u001b[0m\u001b[0mseries_gen\u001b[0m\u001b[0;34m)\u001b[0m\u001b[0;34m:\u001b[0m\u001b[0;34m\u001b[0m\u001b[0m\n\u001b[0;32m--> 277\u001b[0;31m                     \u001b[0mresults\u001b[0m\u001b[0;34m[\u001b[0m\u001b[0mi\u001b[0m\u001b[0;34m]\u001b[0m \u001b[0;34m=\u001b[0m \u001b[0mself\u001b[0m\u001b[0;34m.\u001b[0m\u001b[0mf\u001b[0m\u001b[0;34m(\u001b[0m\u001b[0mv\u001b[0m\u001b[0;34m)\u001b[0m\u001b[0;34m\u001b[0m\u001b[0m\n\u001b[0m\u001b[1;32m    278\u001b[0m                     \u001b[0mkeys\u001b[0m\u001b[0;34m.\u001b[0m\u001b[0mappend\u001b[0m\u001b[0;34m(\u001b[0m\u001b[0mv\u001b[0m\u001b[0;34m.\u001b[0m\u001b[0mname\u001b[0m\u001b[0;34m)\u001b[0m\u001b[0;34m\u001b[0m\u001b[0m\n\u001b[1;32m    279\u001b[0m             \u001b[0;32mexcept\u001b[0m \u001b[0mException\u001b[0m \u001b[0;32mas\u001b[0m \u001b[0me\u001b[0m\u001b[0;34m:\u001b[0m\u001b[0;34m\u001b[0m\u001b[0m\n",
      "\u001b[0;32m<ipython-input-9-abe1c86d10e6>\u001b[0m in \u001b[0;36m<lambda>\u001b[0;34m(x)\u001b[0m\n\u001b[1;32m      6\u001b[0m     \u001b[0mtag_dict\u001b[0m\u001b[0;34m[\u001b[0m\u001b[0;34m'path'\u001b[0m\u001b[0;34m]\u001b[0m \u001b[0;34m=\u001b[0m \u001b[0min_path\u001b[0m\u001b[0;34m\u001b[0m\u001b[0m\n\u001b[1;32m      7\u001b[0m     \u001b[0;32mreturn\u001b[0m \u001b[0mpd\u001b[0m\u001b[0;34m.\u001b[0m\u001b[0mSeries\u001b[0m\u001b[0;34m(\u001b[0m\u001b[0mtag_dict\u001b[0m\u001b[0;34m)\u001b[0m\u001b[0;34m\u001b[0m\u001b[0m\n\u001b[0;32m----> 8\u001b[0;31m \u001b[0mimage_meta_df\u001b[0m \u001b[0;34m=\u001b[0m \u001b[0mimage_df\u001b[0m\u001b[0;34m.\u001b[0m\u001b[0mapply\u001b[0m\u001b[0;34m(\u001b[0m\u001b[0;32mlambda\u001b[0m \u001b[0mx\u001b[0m\u001b[0;34m:\u001b[0m \u001b[0mget_tags\u001b[0m\u001b[0;34m(\u001b[0m\u001b[0mx\u001b[0m\u001b[0;34m[\u001b[0m\u001b[0;34m'path'\u001b[0m\u001b[0;34m]\u001b[0m\u001b[0;34m)\u001b[0m\u001b[0;34m,\u001b[0m \u001b[0;36m1\u001b[0m\u001b[0;34m)\u001b[0m\u001b[0;34m\u001b[0m\u001b[0m\n\u001b[0m\u001b[1;32m      9\u001b[0m \u001b[0;31m# show the summary\u001b[0m\u001b[0;34m\u001b[0m\u001b[0;34m\u001b[0m\u001b[0m\n\u001b[1;32m     10\u001b[0m \u001b[0mimage_meta_df\u001b[0m\u001b[0;34m[\u001b[0m\u001b[0;34m'PatientAge'\u001b[0m\u001b[0;34m]\u001b[0m \u001b[0;34m=\u001b[0m \u001b[0mimage_meta_df\u001b[0m\u001b[0;34m[\u001b[0m\u001b[0;34m'PatientAge'\u001b[0m\u001b[0;34m]\u001b[0m\u001b[0;34m.\u001b[0m\u001b[0mmap\u001b[0m\u001b[0;34m(\u001b[0m\u001b[0mint\u001b[0m\u001b[0;34m)\u001b[0m\u001b[0;34m\u001b[0m\u001b[0m\n",
      "\u001b[0;32m<ipython-input-9-abe1c86d10e6>\u001b[0m in \u001b[0;36mget_tags\u001b[0;34m(in_path)\u001b[0m\n\u001b[1;32m      1\u001b[0m \u001b[0mDCM_TAG_LIST\u001b[0m \u001b[0;34m=\u001b[0m \u001b[0;34m[\u001b[0m\u001b[0;34m'PatientAge'\u001b[0m\u001b[0;34m,\u001b[0m \u001b[0;34m'BodyPartExamined'\u001b[0m\u001b[0;34m,\u001b[0m \u001b[0;34m'ViewPosition'\u001b[0m\u001b[0;34m,\u001b[0m \u001b[0;34m'PatientSex'\u001b[0m\u001b[0;34m]\u001b[0m\u001b[0;34m\u001b[0m\u001b[0m\n\u001b[1;32m      2\u001b[0m \u001b[0;32mdef\u001b[0m \u001b[0mget_tags\u001b[0m\u001b[0;34m(\u001b[0m\u001b[0min_path\u001b[0m\u001b[0;34m)\u001b[0m\u001b[0;34m:\u001b[0m\u001b[0;34m\u001b[0m\u001b[0m\n\u001b[0;32m----> 3\u001b[0;31m     \u001b[0mc_dicom\u001b[0m \u001b[0;34m=\u001b[0m \u001b[0mpydicom\u001b[0m\u001b[0;34m.\u001b[0m\u001b[0mread_file\u001b[0m\u001b[0;34m(\u001b[0m\u001b[0min_path\u001b[0m\u001b[0;34m,\u001b[0m \u001b[0mstop_before_pixels\u001b[0m\u001b[0;34m=\u001b[0m\u001b[0;32mTrue\u001b[0m\u001b[0;34m)\u001b[0m\u001b[0;34m\u001b[0m\u001b[0m\n\u001b[0m\u001b[1;32m      4\u001b[0m     tag_dict = {c_tag: getattr(c_dicom, c_tag, '') \n\u001b[1;32m      5\u001b[0m          for c_tag in DCM_TAG_LIST}\n",
      "\u001b[0;32m~/anaconda3/envs/tensorflow/lib/python3.6/site-packages/pydicom/filereader.py\u001b[0m in \u001b[0;36mdcmread\u001b[0;34m(fp, defer_size, stop_before_pixels, force, specific_tags)\u001b[0m\n\u001b[1;32m    884\u001b[0m     \u001b[0;32mtry\u001b[0m\u001b[0;34m:\u001b[0m\u001b[0;34m\u001b[0m\u001b[0m\n\u001b[1;32m    885\u001b[0m         dataset = read_partial(fp, stop_when, defer_size=defer_size,\n\u001b[0;32m--> 886\u001b[0;31m                                force=force, specific_tags=specific_tags)\n\u001b[0m\u001b[1;32m    887\u001b[0m     \u001b[0;32mfinally\u001b[0m\u001b[0;34m:\u001b[0m\u001b[0;34m\u001b[0m\u001b[0m\n\u001b[1;32m    888\u001b[0m         \u001b[0;32mif\u001b[0m \u001b[0;32mnot\u001b[0m \u001b[0mcaller_owns_file\u001b[0m\u001b[0;34m:\u001b[0m\u001b[0;34m\u001b[0m\u001b[0m\n",
      "\u001b[0;32m~/anaconda3/envs/tensorflow/lib/python3.6/site-packages/pydicom/filereader.py\u001b[0m in \u001b[0;36mread_partial\u001b[0;34m(fileobj, stop_when, defer_size, force, specific_tags)\u001b[0m\n\u001b[1;32m    687\u001b[0m \u001b[0;34m\u001b[0m\u001b[0m\n\u001b[1;32m    688\u001b[0m     \u001b[0;31m# Read preamble (if present)\u001b[0m\u001b[0;34m\u001b[0m\u001b[0;34m\u001b[0m\u001b[0m\n\u001b[0;32m--> 689\u001b[0;31m     \u001b[0mpreamble\u001b[0m \u001b[0;34m=\u001b[0m \u001b[0mread_preamble\u001b[0m\u001b[0;34m(\u001b[0m\u001b[0mfileobj\u001b[0m\u001b[0;34m,\u001b[0m \u001b[0mforce\u001b[0m\u001b[0;34m)\u001b[0m\u001b[0;34m\u001b[0m\u001b[0m\n\u001b[0m\u001b[1;32m    690\u001b[0m     \u001b[0;31m# Read any File Meta Information group (0002,eeee) elements (if present)\u001b[0m\u001b[0;34m\u001b[0m\u001b[0;34m\u001b[0m\u001b[0m\n\u001b[1;32m    691\u001b[0m     \u001b[0mfile_meta_dataset\u001b[0m \u001b[0;34m=\u001b[0m \u001b[0m_read_file_meta_info\u001b[0m\u001b[0;34m(\u001b[0m\u001b[0mfileobj\u001b[0m\u001b[0;34m)\u001b[0m\u001b[0;34m\u001b[0m\u001b[0m\n",
      "\u001b[0;32m~/anaconda3/envs/tensorflow/lib/python3.6/site-packages/pydicom/filereader.py\u001b[0m in \u001b[0;36mread_preamble\u001b[0;34m(fp, force)\u001b[0m\n\u001b[1;32m    625\u001b[0m     \"\"\"\n\u001b[1;32m    626\u001b[0m     \u001b[0mlogger\u001b[0m\u001b[0;34m.\u001b[0m\u001b[0mdebug\u001b[0m\u001b[0;34m(\u001b[0m\u001b[0;34m\"Reading File Meta Information preamble...\"\u001b[0m\u001b[0;34m)\u001b[0m\u001b[0;34m\u001b[0m\u001b[0m\n\u001b[0;32m--> 627\u001b[0;31m     \u001b[0mpreamble\u001b[0m \u001b[0;34m=\u001b[0m \u001b[0mfp\u001b[0m\u001b[0;34m.\u001b[0m\u001b[0mread\u001b[0m\u001b[0;34m(\u001b[0m\u001b[0;36m128\u001b[0m\u001b[0;34m)\u001b[0m\u001b[0;34m\u001b[0m\u001b[0m\n\u001b[0m\u001b[1;32m    628\u001b[0m     \u001b[0;32mif\u001b[0m \u001b[0mconfig\u001b[0m\u001b[0;34m.\u001b[0m\u001b[0mdebugging\u001b[0m\u001b[0;34m:\u001b[0m\u001b[0;34m\u001b[0m\u001b[0m\n\u001b[1;32m    629\u001b[0m         \u001b[0msample\u001b[0m \u001b[0;34m=\u001b[0m \u001b[0mbytes2hex\u001b[0m\u001b[0;34m(\u001b[0m\u001b[0mpreamble\u001b[0m\u001b[0;34m[\u001b[0m\u001b[0;34m:\u001b[0m\u001b[0;36m8\u001b[0m\u001b[0;34m]\u001b[0m\u001b[0;34m)\u001b[0m \u001b[0;34m+\u001b[0m \u001b[0;34m\"...\"\u001b[0m \u001b[0;34m+\u001b[0m \u001b[0mbytes2hex\u001b[0m\u001b[0;34m(\u001b[0m\u001b[0mpreamble\u001b[0m\u001b[0;34m[\u001b[0m\u001b[0;34m-\u001b[0m\u001b[0;36m8\u001b[0m\u001b[0;34m:\u001b[0m\u001b[0;34m]\u001b[0m\u001b[0;34m)\u001b[0m\u001b[0;34m\u001b[0m\u001b[0m\n",
      "\u001b[0;31mKeyboardInterrupt\u001b[0m: "
     ]
    }
   ],
   "source": [
    "DCM_TAG_LIST = ['PatientAge', 'BodyPartExamined', 'ViewPosition', 'PatientSex']\n",
    "def get_tags(in_path):\n",
    "    c_dicom = pydicom.read_file(in_path, stop_before_pixels=True)\n",
    "    tag_dict = {c_tag: getattr(c_dicom, c_tag, '') \n",
    "         for c_tag in DCM_TAG_LIST}\n",
    "    tag_dict['path'] = in_path\n",
    "    return pd.Series(tag_dict)\n",
    "image_meta_df = image_df.apply(lambda x: get_tags(x['path']), 1)\n",
    "# show the summary\n",
    "image_meta_df['PatientAge'] = image_meta_df['PatientAge'].map(int)\n",
    "image_meta_df['PatientAge'].hist()\n",
    "image_meta_df.drop('path',1).describe(exclude=np.number)"
   ]
  },
  {
   "cell_type": "code",
   "execution_count": null,
   "metadata": {
    "_uuid": "9e42002854e4a06e6bc9ff24337b63bb42af9d2f"
   },
   "outputs": [],
   "source": [
    "image_full_df = pd.merge(image_df,\n",
    "                         image_meta_df,\n",
    "                         on='path')\n",
    "image_bbox_df = pd.merge(comb_box_df, \n",
    "                         image_full_df, \n",
    "                         on='patientId',\n",
    "                        how='left')\n",
    "print(image_bbox_df.shape[0], 'image bounding boxes')\n",
    "image_bbox_df.sample(3)"
   ]
  },
  {
   "cell_type": "markdown",
   "metadata": {
    "_uuid": "96af4bb8a61df3dd753e6b103434b996f3884c13"
   },
   "source": [
    "## Create Sample Data Set\n",
    "We create a sample dataset covering different cases, and number of boxes"
   ]
  },
  {
   "cell_type": "code",
   "execution_count": null,
   "metadata": {
    "_uuid": "5aa2c0ab7e7970ed26de93d66eb52cd4b08e57b6"
   },
   "outputs": [],
   "source": [
    "sample_df = image_bbox_df.\\\n",
    "    groupby(['Target','class', 'boxes']).\\\n",
    "    apply(lambda x: x[x['patientId']==x.sample(1)['patientId'].values[0]]).\\\n",
    "    reset_index(drop=True)\n",
    "sample_df"
   ]
  },
  {
   "cell_type": "markdown",
   "metadata": {
    "_uuid": "e59e981d122b9a9c1c0f78d2d914775ff74f7c72"
   },
   "source": [
    "## Show the position and bounding box\n",
    "Here we can see the position (point) and the bounding box for each of the different image types"
   ]
  },
  {
   "cell_type": "code",
   "execution_count": null,
   "metadata": {
    "_uuid": "a110097202462adb9042a02cf5ce641584717043"
   },
   "outputs": [],
   "source": [
    "fig, m_axs = plt.subplots(2, 3, figsize = (20, 10))\n",
    "for c_ax, (c_path, c_rows) in zip(m_axs.flatten(),\n",
    "                    sample_df.groupby(['path'])):\n",
    "    c_dicom = pydicom.read_file(c_path)\n",
    "    c_ax.imshow(c_dicom.pixel_array, cmap='bone')\n",
    "    c_ax.set_title('{class}'.format(**c_rows.iloc[0,:]))\n",
    "    for i, (_, c_row) in enumerate(c_rows.dropna().iterrows()):\n",
    "        c_ax.plot(c_row['x'], c_row['y'], 's', label='{class}'.format(**c_row))\n",
    "        c_ax.add_patch(Rectangle(xy=(c_row['x'], c_row['y']),\n",
    "                                width=c_row['width'],\n",
    "                                height=c_row['height'], \n",
    "                                 alpha = 0.5))\n",
    "        if i==0: c_ax.legend()"
   ]
  },
  {
   "cell_type": "markdown",
   "metadata": {
    "_uuid": "9cf95258eeb58aa070776fca48e620359ebb223d"
   },
   "source": [
    "# Bounding Box Distribution\n",
    "Here we just look at the bounding box distribution to get a better idea how this looks over the whole dataset"
   ]
  },
  {
   "cell_type": "code",
   "execution_count": null,
   "metadata": {
    "_uuid": "a0e9bb4b310379c622055f7a18a5084795ed0e10"
   },
   "outputs": [],
   "source": [
    "pos_bbox = image_bbox_df.query('Target==1')\n",
    "pos_bbox.plot.scatter(x='x', y='y')"
   ]
  },
  {
   "cell_type": "code",
   "execution_count": null,
   "metadata": {
    "_uuid": "8e5a67838560247ef72e5669cdf6369b243dc998"
   },
   "outputs": [],
   "source": [
    "fig, ax1 = plt.subplots(1, 1, figsize = (10, 10))\n",
    "ax1.set_xlim(0, 1024)\n",
    "ax1.set_ylim(0, 1024)\n",
    "for _, c_row in pos_bbox.sample(1000).iterrows():\n",
    "    ax1.add_patch(Rectangle(xy=(c_row['x'], c_row['y']),\n",
    "                 width=c_row['width'],\n",
    "                 height=c_row['height'],\n",
    "                           alpha=5e-3))"
   ]
  },
  {
   "cell_type": "markdown",
   "metadata": {
    "_uuid": "29a114790d74a2b2794394a85045e9e94782cb3a"
   },
   "source": [
    "# Show the boxes as segmentation\n",
    "By showing them as segmentations we can get a better probability map for where the opacity regions are most likely to occur"
   ]
  },
  {
   "cell_type": "code",
   "execution_count": null,
   "metadata": {
    "_uuid": "99d9163a94d7991d209e984d9d2b6774fc6d8a77"
   },
   "outputs": [],
   "source": [
    "# Show the boxes themselves\n",
    "X_STEPS, Y_STEPS = 1024, 1024\n",
    "xx, yy = np.meshgrid(np.linspace(0, 1024, X_STEPS),\n",
    "           np.linspace(0, 1024, Y_STEPS), \n",
    "           indexing='xy')\n",
    "prob_image = np.zeros_like(xx)\n",
    "for _, c_row in pos_bbox.sample(5000).iterrows():\n",
    "    c_mask = (xx>=c_row['x']) & (xx<=(c_row['x']+c_row['width']))\n",
    "    c_mask &= (yy>=c_row['y']) & (yy<=c_row['y']+c_row['height'])\n",
    "    prob_image += c_mask\n",
    "fig, ax1 = plt.subplots(1, 1, figsize = (10, 10))\n",
    "ax1.imshow(prob_image, cmap='hot')"
   ]
  },
  {
   "cell_type": "markdown",
   "metadata": {
    "_uuid": "963b741fdb177d131af2afc6e0c4f151b014e47b"
   },
   "source": [
    "# Overlay the Probability on a few images\n",
    "Does the probability we calculate seem to make sense? or have we flipped something somewhere?"
   ]
  },
  {
   "cell_type": "code",
   "execution_count": null,
   "metadata": {
    "_uuid": "f03e4f67dbff68cedf2cc9b29ed489fe2fcdec62"
   },
   "outputs": [],
   "source": [
    "fig, m_axs = plt.subplots(2, 3, figsize = (20, 10))\n",
    "for c_ax, (c_path, c_rows) in zip(m_axs.flatten(),\n",
    "                    sample_df.groupby(['path'])):\n",
    "    c_img_arr = pydicom.read_file(c_path).pixel_array\n",
    "    # overlay\n",
    "    c_img = plt.cm.gray(c_img_arr)\n",
    "    c_img += 0.25*plt.cm.hot(prob_image/prob_image.max())\n",
    "    c_img = np.clip(c_img, 0, 1)\n",
    "    c_ax.imshow(c_img)\n",
    "    \n",
    "    c_ax.set_title('{class}'.format(**c_rows.iloc[0,:]))\n",
    "    for i, (_, c_row) in enumerate(c_rows.dropna().iterrows()):\n",
    "        c_ax.plot(c_row['x'], c_row['y'], 's', label='{class}'.format(**c_row))\n",
    "        c_ax.add_patch(Rectangle(xy=(c_row['x'], c_row['y']),\n",
    "                                width=c_row['width'],\n",
    "                                height=c_row['height'], \n",
    "                                 alpha = 0.5,\n",
    "                                fill=False))\n",
    "        if i==0: c_ax.legend()\n",
    "fig.savefig('overview.png', figdpi = 600)"
   ]
  },
  {
   "cell_type": "markdown",
   "metadata": {
    "_uuid": "828c1986e2f5527cce11e7d114e166454caef64e"
   },
   "source": [
    "### Save the preprocessed results\n",
    "We can use the preprocessed results with the appropriate DICOM tags to make model training step easier"
   ]
  },
  {
   "cell_type": "code",
   "execution_count": null,
   "metadata": {
    "_uuid": "497116383a76bd6285edf70c2604924f6e5e1687"
   },
   "outputs": [],
   "source": [
    "image_bbox_df.to_csv('image_bbox_full.csv', index=False)"
   ]
  }
 ],
 "metadata": {
  "kernelspec": {
   "display_name": "Python 3",
   "language": "python",
   "name": "python3"
  },
  "language_info": {
   "codemirror_mode": {
    "name": "ipython",
    "version": 3
   },
   "file_extension": ".py",
   "mimetype": "text/x-python",
   "name": "python",
   "nbconvert_exporter": "python",
   "pygments_lexer": "ipython3",
   "version": "3.6.5"
  }
 },
 "nbformat": 4,
 "nbformat_minor": 1
}
